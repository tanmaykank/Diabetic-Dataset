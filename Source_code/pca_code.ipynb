{
 "cells": [
  {
   "cell_type": "code",
   "execution_count": null,
   "metadata": {},
   "outputs": [],
   "source": [
    "\n",
    "\n",
    "\n",
    "import pandas as pd\n",
    "from sklearn.preprocessing import MinMaxScaler\n",
    "from sklearn.decomposition import PCA\n",
    "\n",
    "\n",
    "\n",
    "df=pd.read_csv('final_encoded_data.csv')\n",
    "col_list=list(df.columns) ; col_list=col_list[:-1]\n",
    "X=df.iloc[:,:-1]\n",
    "df_main=pd.DataFrame(data=X,columns=col_list)\n",
    "# Using PCA to determine number of features\n",
    "scaler = MinMaxScaler(feature_range=[0, 1])\n",
    "df_scaled = pd.DataFrame(scaler.fit_transform(df_main),columns = df_main.columns)\n",
    "# Transforming data for 35 features using PCA\n",
    "pca = PCA(n_components=35)\n",
    "df_transformed = pca.fit_transform(df_scaled)\n",
    "# Components list creation\n",
    "index_names=[]\n",
    "for i in range(1,36):\n",
    "    label='PC-'+str(i)\n",
    "    index_names.append(label)\n",
    "df_pca=pd.DataFrame(pca.components_,columns=df_scaled.columns,index = index_names)\n",
    "df_pca=df_pca.apply(lambda x: abs(x))\n",
    "# Components relations with features\n",
    "print(df_pca.values.sum())"
   ]
  }
 ],
 "metadata": {
  "kernelspec": {
   "display_name": "Python 3",
   "language": "python",
   "name": "python3"
  },
  "language_info": {
   "codemirror_mode": {
    "name": "ipython",
    "version": 3
   },
   "file_extension": ".py",
   "mimetype": "text/x-python",
   "name": "python",
   "nbconvert_exporter": "python",
   "pygments_lexer": "ipython3",
   "version": "3.7.3"
  }
 },
 "nbformat": 4,
 "nbformat_minor": 2
}
