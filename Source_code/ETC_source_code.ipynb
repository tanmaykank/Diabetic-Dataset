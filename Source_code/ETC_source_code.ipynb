{
 "cells": [
  {
   "cell_type": "code",
   "execution_count": null,
   "metadata": {},
   "outputs": [],
   "source": [
    "import numpy as np\n",
    "import pandas as pd\n",
    "from sklearn.neighbors import KNeighborsClassifier\n",
    "from sklearn.ensemble import RandomForestClassifier,ExtraTreesClassifier\n",
    "from sklearn.model_selection import train_test_split\n",
    "from sklearn.metrics import accuracy_score,confusion_matrix,roc_curve,classification_report\n",
    "\n",
    "\n",
    "# Main data frame\n",
    "df=pd.read_csv('final_encoded_data.csv')\n",
    "# Features selected using ExtraTreesClassifier\n",
    "final_features=['num_lab_procedures', 'num_medications', 'time_in_hospital', 'number_inpatient', 'number_diagnoses', 'discharge_disposition_id', 'num_procedures', 'number_outpatient', 'admission_type_id', 'admission_source_id', 'number_emergency', 'repaglinide', 'glimepiride-pioglitazone', 'acetohexamide', 'payer_code', 'chlorpropamide', 'glipizide-metformin', 'acarbose', 'medical_specialty', 'race', 'insulin', 'tolbutamide', 'metformin', 'diag_2', 'troglitazone', 'A1Cresult', 'glimepiride', 'pioglitazone', 'metformin-rosiglitazone', 'examide', 'glipizide', 'change', 'diag_1', 'nateglinide', 'max_glu_serum']\n",
    "# Extracting feature data abd target data\n",
    "X=df.loc[:,final_features] ; y=df.iloc[:,-1]\n",
    "# Creating training and testing data\n",
    "X_train,X_test,y_train,y_test=train_test_split(X,y,test_size=0.3,random_state=42)\n",
    "# Evaluating KNN performance\n",
    "knn=KNeighborsClassifier(n_neighbors=10)\n",
    "knn.fit(X_train,y_train)\n",
    "y_pred=knn.predict(X_test)\n",
    "# Calculating accuracy and confusion matrix\n",
    "print('The accuracy of KNN classifier is: '+str(accuracy_score(y_test,y_pred)))\n",
    "print('The confusion matrix for KNN classifier is: ') ; print(confusion_matrix(y_test,y_pred))\n",
    "# Evaluating RFC performance\n",
    "rfc=RandomForestClassifier(n_estimators=733,min_samples_split=10,min_samples_leaf=2,max_features='auto',max_depth=87)\n",
    "rfc.fit(X_train,y_train)\n",
    "y_pred=rfc.predict(X_test)\n",
    "# Calculating accuracy and confusion matrix\n",
    "print('The accuracy of RandomForestClassfier is: '+str(accuracy_score(y_test,y_pred)))\n",
    "print('The confusion matrix for RandomForestClassifier is: ') ; print(confusion_matrix(y_test,y_pred))"
   ]
  }
 ],
 "metadata": {
  "kernelspec": {
   "display_name": "Python 3",
   "language": "python",
   "name": "python3"
  },
  "language_info": {
   "codemirror_mode": {
    "name": "ipython",
    "version": 3
   },
   "file_extension": ".py",
   "mimetype": "text/x-python",
   "name": "python",
   "nbconvert_exporter": "python",
   "pygments_lexer": "ipython3",
   "version": "3.7.3"
  }
 },
 "nbformat": 4,
 "nbformat_minor": 2
}
