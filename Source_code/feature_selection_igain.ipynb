{
 "cells": [
  {
   "cell_type": "code",
   "execution_count": null,
   "metadata": {},
   "outputs": [],
   "source": [
    "import pandas as pd\n",
    "import numpy as np\n",
    "import math,operator\n",
    "from sklearn.preprocessing import LabelEncoder,MinMaxScaler\n",
    "import matplotlib.pyplot as plt\n",
    "from sklearn.neighbors import KNeighborsClassifier\n",
    "from sklearn.ensemble import RandomForestClassifier,ExtraTreesClassifier\n",
    "from sklearn.model_selection import train_test_split\n",
    "from sklearn.metrics import accuracy_score,confusion_matrix,roc_curve,classification_report\n",
    "from sklearn.feature_selection import mutual_info_classif,chi2,SelectKBest,RFE\n",
    "from sklearn.linear_model import LogisticRegression\n",
    "from sklearn.decomposition import PCA\n",
    "from sklearn.metrics import accuracy_score\n",
    "import matplotlib.pyplot as plt\n",
    "\n",
    "\n",
    "\n",
    "df=pd.read_csv('encoded_data.csv')\n",
    "df1=pd.read_csv('data.csv')\n",
    "df['readmitted']=df1['readmitted']\n",
    "col_list=list(df.columns) ; col_list=col_list[:-1]\n",
    "# Features selected using RFE\n",
    "'''final_features=['examide', 'citoglipton', 'metformin-rosiglitazone', 'troglitazone', 'tolbutamide',\n",
    "'glipizide-metformin', 'metformin-pioglitazone', 'acetohexamide', 'glimepiride-pioglitazone',\n",
    "'nateglinide', 'tolazamide', 'glyburide', 'glyburide-metformin', 'chlorpropamide', 'miglitol', 'glimepiride', 'gender',\n",
    "'pioglitazone', 'rosiglitazone', 'acarbose', 'glipizide', 'repaglinide', 'A1Cresult', 'race', 'metformin', 'max_glu_serum',\n",
    "'change', 'num_procedures', 'age', 'diabetesMed', 'time_in_hospital', 'insulin', 'num_lab_procedures', 'num_medications',\n",
    "'admission_source_id']'''\n",
    "X=df.iloc[:,:-1] ; y=df.iloc[:,-1]\n",
    "# Information gain calculation\n",
    "res = dict(zip(col_list,mutual_info_classif(X,y, discrete_features=True)))\n",
    "# Sorting dictionary on basis of values\n",
    "res = sorted(res.items(), key=operator.itemgetter(1))\n",
    "final_features=[]\n",
    "for i in range(35):\n",
    "    final_features.append(res[i][0])\n",
    "print(final_features)\n",
    "# Scaling the values\n",
    "'''scaler = MinMaxScaler(feature_range=[0, 1])\n",
    "X_scaled = scaler.fit_transform(X)\n",
    "# Transforming values using PCA with 35 components\n",
    "pca=PCA(n_components=35)\n",
    "X_transformed=pca.fit_transform(X_scaled)'''\n",
    "# Evaluating the model\n",
    "'''X_train,X_test,y_train,y_test=train_test_split(X,y,test_size=0.3,random_state=42)\n",
    "clf=RandomForestClassifier(n_estimators=733,min_samples_split=10,min_samples_leaf=2,max_features='auto',\n",
    "                           max_depth=87)\n",
    "clf.fit(X_train,y_train)\n",
    "y_pred=clf.predict(X_test)\n",
    "print(accuracy_score(y_test,y_pred))\n",
    "print(classification_report(y_test,y_pred))'''"
   ]
  }
 ],
 "metadata": {
  "kernelspec": {
   "display_name": "Python 3",
   "language": "python",
   "name": "python3"
  },
  "language_info": {
   "codemirror_mode": {
    "name": "ipython",
    "version": 3
   },
   "file_extension": ".py",
   "mimetype": "text/x-python",
   "name": "python",
   "nbconvert_exporter": "python",
   "pygments_lexer": "ipython3",
   "version": "3.7.3"
  }
 },
 "nbformat": 4,
 "nbformat_minor": 2
}
