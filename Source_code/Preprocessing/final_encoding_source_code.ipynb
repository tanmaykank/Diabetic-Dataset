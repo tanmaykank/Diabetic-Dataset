{
 "cells": [
  {
   "cell_type": "code",
   "execution_count": null,
   "metadata": {},
   "outputs": [],
   "source": [
    "import numpy as np\n",
    "import pandas as pd\n",
    "\n",
    "\n",
    "# Main data frame\n",
    "df=pd.read_csv('data.csv')\n",
    "# Replacing column values\n",
    "df['readmitted'].replace(['>30','<30'],['Yes','Yes'],inplace=True)\n",
    "print(df['readmitted'].unique())\n",
    "# Encoded data frame\n",
    "df1=pd.read_csv('encoded_data.csv')\n",
    "df1['readmitted']=df['readmitted']\n",
    "# Exporting data frame to .csv file\n",
    "final_encoded_data=df1.to_csv(r'D:\\PyCharm Community Edition 2019.2.2\\Big_data\\final_encoded_data.csv',index=None)"
   ]
  }
 ],
 "metadata": {
  "kernelspec": {
   "display_name": "Python 3",
   "language": "python",
   "name": "python3"
  },
  "language_info": {
   "codemirror_mode": {
    "name": "ipython",
    "version": 3
   },
   "file_extension": ".py",
   "mimetype": "text/x-python",
   "name": "python",
   "nbconvert_exporter": "python",
   "pygments_lexer": "ipython3",
   "version": "3.7.3"
  }
 },
 "nbformat": 4,
 "nbformat_minor": 2
}
