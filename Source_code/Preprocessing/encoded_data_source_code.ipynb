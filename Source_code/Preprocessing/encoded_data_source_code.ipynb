{
 "cells": [
  {
   "cell_type": "code",
   "execution_count": null,
   "metadata": {},
   "outputs": [],
   "source": [
    "import pandas as pd\n",
    "import numpy as np\n",
    "import math\n",
    "from sklearn.preprocessing import LabelEncoder\n",
    "\n",
    "\n",
    "df=pd.read_csv('imputed_data.csv')\n",
    "# Selecting int64 columns\n",
    "df_int=df.select_dtypes('int64')\n",
    "# Selecting string columns\n",
    "df_object=df.select_dtypes('object')\n",
    "# Extracting columns from data frame\n",
    "col_list=list(df_object.columns)\n",
    "# Label encoding the values\n",
    "X=df_object.values\n",
    "# encode string input values as integers\n",
    "features = []\n",
    "# We encode values one column at a time\n",
    "for i in range(0, X.shape[1]):\n",
    "\tlabel_encoder = LabelEncoder()\n",
    "\tfeature = label_encoder.fit_transform(X[:,i])\n",
    "\tfeatures.append(feature)\n",
    "encoded_x = np.array(features)\n",
    "encoded_x = encoded_x.reshape(X.shape[0], X.shape[1])\n",
    "encoded_df_object=pd.DataFrame(data=encoded_x,columns=col_list)\n",
    "# Concatenating data frames\n",
    "df_final=pd.concat([df_int,encoded_df_object],axis=1)\n",
    "# Converting all columns to type 'int64'\n",
    "df_final=df_final.astype('int64')\n",
    "print(df_final.info())"
   ]
  }
 ],
 "metadata": {
  "kernelspec": {
   "display_name": "Python 3",
   "language": "python",
   "name": "python3"
  },
  "language_info": {
   "codemirror_mode": {
    "name": "ipython",
    "version": 3
   },
   "file_extension": ".py",
   "mimetype": "text/x-python",
   "name": "python",
   "nbconvert_exporter": "python",
   "pygments_lexer": "ipython3",
   "version": "3.7.3"
  }
 },
 "nbformat": 4,
 "nbformat_minor": 2
}
