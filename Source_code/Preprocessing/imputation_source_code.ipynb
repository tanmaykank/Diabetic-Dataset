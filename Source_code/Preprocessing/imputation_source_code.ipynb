{
 "cells": [
  {
   "cell_type": "code",
   "execution_count": null,
   "metadata": {},
   "outputs": [],
   "source": [
    "import pandas as pd\n",
    "import numpy as np\n",
    "import math\n",
    "from sklearn.base import TransformerMixin  # Mixin class for all transformers in scikit-learn\n",
    "\n",
    "\n",
    "# We create this class to perform imputation\n",
    "class DataFrameImputer(TransformerMixin):\n",
    "\n",
    "    def __init__(self):\n",
    "        \"\"\"Impute missing values.\n",
    "\n",
    "        Columns of dtype object are imputed with the most frequent value\n",
    "        in column.\n",
    "\n",
    "        Columns of other types are imputed with mean of column.\n",
    "\n",
    "        \"\"\"\n",
    "    def fit(self, X, y=None):\n",
    "\n",
    "        self.fill = pd.Series([X[c].value_counts().index[0]\n",
    "            if X[c].dtype == np.dtype('O') else X[c].mean() for c in X],\n",
    "            index=X.columns)\n",
    "\n",
    "        return self\n",
    "\n",
    "    def transform(self, X, y=None):\n",
    "        return X.fillna(self.fill)\n",
    "\n",
    "\n",
    "\n",
    "df=pd.read_csv('data.csv')\n",
    "# Replacing '?' with NaN\n",
    "df.replace(['?'],[math.nan],inplace=True)\n",
    "# Dropping irrelevant columns\n",
    "df.drop(columns=['encounter_id','patient_nbr','weight'],inplace=True)\n",
    "# Counting NaN values\n",
    "print('Before imputation:')\n",
    "print(len(df)-df.count())\n",
    "# Imputing missing values in dataframe\n",
    "df_transformed=DataFrameImputer().fit_transform(df)\n",
    "# Counting NaN values in imputed dataframe\n",
    "print('After imputation:')\n",
    "print(len(df_transformed)-df_transformed.count())\n",
    "# Extracting .csv file for imputed data\n",
    "imputed_data=df_transformed.to_csv(r'D:\\PyCharm Community Edition 2019.2.2\\Big_data\\imputed_data.csv',index=None)"
   ]
  }
 ],
 "metadata": {
  "kernelspec": {
   "display_name": "Python 3",
   "language": "python",
   "name": "python3"
  },
  "language_info": {
   "codemirror_mode": {
    "name": "ipython",
    "version": 3
   },
   "file_extension": ".py",
   "mimetype": "text/x-python",
   "name": "python",
   "nbconvert_exporter": "python",
   "pygments_lexer": "ipython3",
   "version": "3.7.3"
  }
 },
 "nbformat": 4,
 "nbformat_minor": 2
}
