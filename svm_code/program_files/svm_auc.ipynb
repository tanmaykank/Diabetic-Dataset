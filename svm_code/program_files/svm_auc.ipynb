{
 "cells": [
  {
   "cell_type": "code",
   "execution_count": 2,
   "metadata": {},
   "outputs": [
    {
     "name": "stdout",
     "output_type": "stream",
     "text": [
      "please enter the path of files: C:\\Users\\Tanmay Kank\\svm_if.csv\n",
      "please enter value of C: 10\n"
     ]
    },
    {
     "data": {
      "image/png": "[encoded data removed]",
      "text/plain": [
       "<Figure size 432x288 with 1 Axes>"
      ]
     },
     "metadata": {
      "needs_background": "light"
     },
     "output_type": "display_data"
    }
   ],
   "source": [
    "from sklearn import datasets, svm\n",
    "from sklearn.model_selection import train_test_split\n",
    "from sklearn.metrics import classification_report,confusion_matrix\n",
    "import pandas as pd\n",
    "import math\n",
    "import numpy as np\n",
    "import operator\n",
    "from sklearn.feature_selection import mutual_info_classif\n",
    "from sklearn import preprocessing\n",
    "import matplotlib.pyplot as plt\n",
    "from sklearn.model_selection import train_test_split\n",
    "from sklearn.model_selection import GridSearchCV \n",
    "from sklearn.metrics import roc_curve,roc_auc_score\n",
    "from sklearn.svm import SVC \n",
    "\n",
    "g = input(\"please enter the path of files: \") #enter your file path here\n",
    "# C:\\Users\\Tanmay Kank\\svm_if.csv = this is an example of path for information gain csv file\n",
    "# C:\\Users\\Tanmay Kank\\svm_re.csv = this is an example of path for recursive elimination csv file\n",
    "# C:\\Users\\Tanmay Kank\\svm_et.csv = this is an example of path for extra tree csv file\n",
    "v = float(input(\"please enter value of C: \")) # enter the coressponding 'c' for the filepath run in preprocessing program \n",
    "\n",
    "# C:\\Users\\Tanmay Kank\\svm_if.csv\n",
    "df30 = pd.read_csv(g)  \n",
    "\n",
    "X = df30.drop('readmitted', axis=1)\n",
    "y = df30['readmitted']\n",
    "\n",
    "#Split the data into test and train\n",
    "X_train, X_test, y_train, y_test = train_test_split(X, y, test_size=0.3,random_state=3)  #train test split\n",
    "\n",
    "# Auc curve for Linear Kernel\n",
    "svc_linear = SVC(kernel='linear', C=v,probability=True).fit(X_train, y_train) \n",
    "prob= svc_linear.predict_proba(X_test)\n",
    "prob=[item[1] for item in prob]\n",
    "fpr,tpr,thresh=roc_curve(y_test,prob,pos_label=1)\n",
    "auc=roc_auc_score(y_test,prob)\n",
    "label='AUC: '+str(round(auc,2))\n",
    "plt.plot(fpr,tpr) ; plt.xlabel('FPR') ; plt.ylabel('TPR')\n",
    "plt.title(label)\n",
    "plt.show()   #plot at the end\n",
    "\n",
    "\n",
    "#please run the program twice if graph not generated in one attempt"
   ]
  }
 ],
 "metadata": {
  "kernelspec": {
   "display_name": "Python 3",
   "language": "python",
   "name": "python3"
  },
  "language_info": {
   "codemirror_mode": {
    "name": "ipython",
    "version": 3
   },
   "file_extension": ".py",
   "mimetype": "text/x-python",
   "name": "python",
   "nbconvert_exporter": "python",
   "pygments_lexer": "ipython3",
   "version": "3.7.3"
  }
 },
 "nbformat": 4,
 "nbformat_minor": 2
}
